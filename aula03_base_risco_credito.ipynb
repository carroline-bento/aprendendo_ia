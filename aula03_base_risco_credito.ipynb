{
 "cells": [
  {
   "cell_type": "markdown",
   "id": "807b59b0",
   "metadata": {},
   "source": [
    "# Aplicação do Naive Bayes à base de risco de crédito"
   ]
  },
  {
   "cell_type": "code",
   "execution_count": 1,
   "id": "84b95f98",
   "metadata": {},
   "outputs": [],
   "source": [
    "import pandas as pd\n",
    "import numpy as np\n",
    "import seaborn as sns\n",
    "import matplotlib.pyplot as plt\n",
    "import plotly.express as px\n",
    "from sklearn.naive_bayes import GaussianNB\n",
    "# Gaussian é uma distribuição estatística, chamada de \"distribuição normal\", já que a maior parte dos dados\n",
    "# está dentro desta distribuição estatística, usado para problemas genéricos\n"
   ]
  },
  {
   "cell_type": "code",
   "execution_count": 2,
   "id": "a20b0c73",
   "metadata": {},
   "outputs": [],
   "source": [
    "base_risco_credito = pd.read_csv('bases/risco_credito.csv')"
   ]
  },
  {
   "cell_type": "code",
   "execution_count": 3,
   "id": "9f057169",
   "metadata": {},
   "outputs": [
    {
     "data": {
      "text/html": [
       "<div>\n",
       "<style scoped>\n",
       "    .dataframe tbody tr th:only-of-type {\n",
       "        vertical-align: middle;\n",
       "    }\n",
       "\n",
       "    .dataframe tbody tr th {\n",
       "        vertical-align: top;\n",
       "    }\n",
       "\n",
       "    .dataframe thead th {\n",
       "        text-align: right;\n",
       "    }\n",
       "</style>\n",
       "<table border=\"1\" class=\"dataframe\">\n",
       "  <thead>\n",
       "    <tr style=\"text-align: right;\">\n",
       "      <th></th>\n",
       "      <th>historia</th>\n",
       "      <th>divida</th>\n",
       "      <th>garantias</th>\n",
       "      <th>renda</th>\n",
       "      <th>risco</th>\n",
       "    </tr>\n",
       "  </thead>\n",
       "  <tbody>\n",
       "    <tr>\n",
       "      <th>0</th>\n",
       "      <td>ruim</td>\n",
       "      <td>alta</td>\n",
       "      <td>nenhuma</td>\n",
       "      <td>0_15</td>\n",
       "      <td>alto</td>\n",
       "    </tr>\n",
       "    <tr>\n",
       "      <th>1</th>\n",
       "      <td>desconhecida</td>\n",
       "      <td>alta</td>\n",
       "      <td>nenhuma</td>\n",
       "      <td>15_35</td>\n",
       "      <td>alto</td>\n",
       "    </tr>\n",
       "    <tr>\n",
       "      <th>2</th>\n",
       "      <td>desconhecida</td>\n",
       "      <td>baixa</td>\n",
       "      <td>nenhuma</td>\n",
       "      <td>15_35</td>\n",
       "      <td>moderado</td>\n",
       "    </tr>\n",
       "    <tr>\n",
       "      <th>3</th>\n",
       "      <td>desconhecida</td>\n",
       "      <td>baixa</td>\n",
       "      <td>nenhuma</td>\n",
       "      <td>acima_35</td>\n",
       "      <td>alto</td>\n",
       "    </tr>\n",
       "    <tr>\n",
       "      <th>4</th>\n",
       "      <td>desconhecida</td>\n",
       "      <td>baixa</td>\n",
       "      <td>nenhuma</td>\n",
       "      <td>acima_35</td>\n",
       "      <td>baixo</td>\n",
       "    </tr>\n",
       "    <tr>\n",
       "      <th>5</th>\n",
       "      <td>desconhecida</td>\n",
       "      <td>baixa</td>\n",
       "      <td>adequada</td>\n",
       "      <td>acima_35</td>\n",
       "      <td>baixo</td>\n",
       "    </tr>\n",
       "    <tr>\n",
       "      <th>6</th>\n",
       "      <td>ruim</td>\n",
       "      <td>baixa</td>\n",
       "      <td>nenhuma</td>\n",
       "      <td>0_15</td>\n",
       "      <td>alto</td>\n",
       "    </tr>\n",
       "    <tr>\n",
       "      <th>7</th>\n",
       "      <td>ruim</td>\n",
       "      <td>baixa</td>\n",
       "      <td>adequada</td>\n",
       "      <td>acima_35</td>\n",
       "      <td>moderado</td>\n",
       "    </tr>\n",
       "    <tr>\n",
       "      <th>8</th>\n",
       "      <td>boa</td>\n",
       "      <td>baixa</td>\n",
       "      <td>nenhuma</td>\n",
       "      <td>acima_35</td>\n",
       "      <td>baixo</td>\n",
       "    </tr>\n",
       "    <tr>\n",
       "      <th>9</th>\n",
       "      <td>boa</td>\n",
       "      <td>alta</td>\n",
       "      <td>adequada</td>\n",
       "      <td>acima_35</td>\n",
       "      <td>baixo</td>\n",
       "    </tr>\n",
       "    <tr>\n",
       "      <th>10</th>\n",
       "      <td>boa</td>\n",
       "      <td>alta</td>\n",
       "      <td>nenhuma</td>\n",
       "      <td>0_15</td>\n",
       "      <td>alto</td>\n",
       "    </tr>\n",
       "    <tr>\n",
       "      <th>11</th>\n",
       "      <td>boa</td>\n",
       "      <td>alta</td>\n",
       "      <td>nenhuma</td>\n",
       "      <td>15_35</td>\n",
       "      <td>moderado</td>\n",
       "    </tr>\n",
       "    <tr>\n",
       "      <th>12</th>\n",
       "      <td>boa</td>\n",
       "      <td>alta</td>\n",
       "      <td>nenhuma</td>\n",
       "      <td>acima_35</td>\n",
       "      <td>baixo</td>\n",
       "    </tr>\n",
       "    <tr>\n",
       "      <th>13</th>\n",
       "      <td>ruim</td>\n",
       "      <td>alta</td>\n",
       "      <td>nenhuma</td>\n",
       "      <td>15_35</td>\n",
       "      <td>alto</td>\n",
       "    </tr>\n",
       "  </tbody>\n",
       "</table>\n",
       "</div>"
      ],
      "text/plain": [
       "        historia divida garantias     renda     risco\n",
       "0           ruim   alta   nenhuma      0_15      alto\n",
       "1   desconhecida   alta   nenhuma     15_35      alto\n",
       "2   desconhecida  baixa   nenhuma     15_35  moderado\n",
       "3   desconhecida  baixa   nenhuma  acima_35      alto\n",
       "4   desconhecida  baixa   nenhuma  acima_35     baixo\n",
       "5   desconhecida  baixa  adequada  acima_35     baixo\n",
       "6           ruim  baixa   nenhuma      0_15      alto\n",
       "7           ruim  baixa  adequada  acima_35  moderado\n",
       "8            boa  baixa   nenhuma  acima_35     baixo\n",
       "9            boa   alta  adequada  acima_35     baixo\n",
       "10           boa   alta   nenhuma      0_15      alto\n",
       "11           boa   alta   nenhuma     15_35  moderado\n",
       "12           boa   alta   nenhuma  acima_35     baixo\n",
       "13          ruim   alta   nenhuma     15_35      alto"
      ]
     },
     "execution_count": 3,
     "metadata": {},
     "output_type": "execute_result"
    }
   ],
   "source": [
    "base_risco_credito"
   ]
  },
  {
   "cell_type": "markdown",
   "id": "86bca353",
   "metadata": {},
   "source": [
    "### Pré-processamento"
   ]
  },
  {
   "cell_type": "code",
   "execution_count": 4,
   "id": "6c8d72f3",
   "metadata": {},
   "outputs": [
    {
     "data": {
      "text/plain": [
       "array([['ruim', 'alta', 'nenhuma', '0_15'],\n",
       "       ['desconhecida', 'alta', 'nenhuma', '15_35'],\n",
       "       ['desconhecida', 'baixa', 'nenhuma', '15_35'],\n",
       "       ['desconhecida', 'baixa', 'nenhuma', 'acima_35'],\n",
       "       ['desconhecida', 'baixa', 'nenhuma', 'acima_35'],\n",
       "       ['desconhecida', 'baixa', 'adequada', 'acima_35'],\n",
       "       ['ruim', 'baixa', 'nenhuma', '0_15'],\n",
       "       ['ruim', 'baixa', 'adequada', 'acima_35'],\n",
       "       ['boa', 'baixa', 'nenhuma', 'acima_35'],\n",
       "       ['boa', 'alta', 'adequada', 'acima_35'],\n",
       "       ['boa', 'alta', 'nenhuma', '0_15'],\n",
       "       ['boa', 'alta', 'nenhuma', '15_35'],\n",
       "       ['boa', 'alta', 'nenhuma', 'acima_35'],\n",
       "       ['ruim', 'alta', 'nenhuma', '15_35']], dtype=object)"
      ]
     },
     "execution_count": 4,
     "metadata": {},
     "output_type": "execute_result"
    }
   ],
   "source": [
    "X_risco_credito = base_risco_credito.iloc[:, 0:4].values\n",
    "X_risco_credito"
   ]
  },
  {
   "cell_type": "code",
   "execution_count": 5,
   "id": "8364564c",
   "metadata": {},
   "outputs": [
    {
     "data": {
      "text/plain": [
       "array(['alto', 'alto', 'moderado', 'alto', 'baixo', 'baixo', 'alto',\n",
       "       'moderado', 'baixo', 'baixo', 'alto', 'moderado', 'baixo', 'alto'],\n",
       "      dtype=object)"
      ]
     },
     "execution_count": 5,
     "metadata": {},
     "output_type": "execute_result"
    }
   ],
   "source": [
    "y_risco_credito = base_risco_credito.iloc[:, 4].values\n",
    "y_risco_credito"
   ]
  },
  {
   "cell_type": "markdown",
   "id": "9c89129f",
   "metadata": {},
   "source": [
    "#### Label encoder"
   ]
  },
  {
   "cell_type": "code",
   "execution_count": 6,
   "id": "40669d45",
   "metadata": {},
   "outputs": [],
   "source": [
    "from sklearn.preprocessing import LabelEncoder\n",
    "label_encoder_historia = LabelEncoder()\n",
    "label_encoder_divida = LabelEncoder()\n",
    "label_encoder_garantia = LabelEncoder()\n",
    "label_encoder_renda = LabelEncoder()"
   ]
  },
  {
   "cell_type": "code",
   "execution_count": 7,
   "id": "17e84da0",
   "metadata": {},
   "outputs": [],
   "source": [
    "X_risco_credito[:,0] = label_encoder_historia.fit_transform(X_risco_credito[:,0])\n",
    "X_risco_credito[:,1] = label_encoder_divida.fit_transform(X_risco_credito[:,1])\n",
    "X_risco_credito[:,2] = label_encoder_garantia.fit_transform(X_risco_credito[:,2])\n",
    "X_risco_credito[:,3] = label_encoder_renda.fit_transform(X_risco_credito[:,3])"
   ]
  },
  {
   "cell_type": "code",
   "execution_count": 8,
   "id": "1f394853",
   "metadata": {},
   "outputs": [
    {
     "data": {
      "text/plain": [
       "array([[2, 0, 1, 0],\n",
       "       [1, 0, 1, 1],\n",
       "       [1, 1, 1, 1],\n",
       "       [1, 1, 1, 2],\n",
       "       [1, 1, 1, 2],\n",
       "       [1, 1, 0, 2],\n",
       "       [2, 1, 1, 0],\n",
       "       [2, 1, 0, 2],\n",
       "       [0, 1, 1, 2],\n",
       "       [0, 0, 0, 2],\n",
       "       [0, 0, 1, 0],\n",
       "       [0, 0, 1, 1],\n",
       "       [0, 0, 1, 2],\n",
       "       [2, 0, 1, 1]], dtype=object)"
      ]
     },
     "execution_count": 8,
     "metadata": {},
     "output_type": "execute_result"
    }
   ],
   "source": [
    "X_risco_credito"
   ]
  },
  {
   "cell_type": "code",
   "execution_count": 9,
   "id": "14104d19",
   "metadata": {},
   "outputs": [],
   "source": [
    "import pickle\n",
    "with open('risco_credito.pkl', 'wb') as f:\n",
    "  pickle.dump([X_risco_credito, y_risco_credito], f)"
   ]
  },
  {
   "cell_type": "markdown",
   "id": "97fc834a",
   "metadata": {},
   "source": [
    "## Naïve Bayes"
   ]
  },
  {
   "cell_type": "code",
   "execution_count": 10,
   "id": "fddc7384",
   "metadata": {},
   "outputs": [
    {
     "data": {
      "text/html": [
       "<style>#sk-container-id-1 {color: black;background-color: white;}#sk-container-id-1 pre{padding: 0;}#sk-container-id-1 div.sk-toggleable {background-color: white;}#sk-container-id-1 label.sk-toggleable__label {cursor: pointer;display: block;width: 100%;margin-bottom: 0;padding: 0.3em;box-sizing: border-box;text-align: center;}#sk-container-id-1 label.sk-toggleable__label-arrow:before {content: \"▸\";float: left;margin-right: 0.25em;color: #696969;}#sk-container-id-1 label.sk-toggleable__label-arrow:hover:before {color: black;}#sk-container-id-1 div.sk-estimator:hover label.sk-toggleable__label-arrow:before {color: black;}#sk-container-id-1 div.sk-toggleable__content {max-height: 0;max-width: 0;overflow: hidden;text-align: left;background-color: #f0f8ff;}#sk-container-id-1 div.sk-toggleable__content pre {margin: 0.2em;color: black;border-radius: 0.25em;background-color: #f0f8ff;}#sk-container-id-1 input.sk-toggleable__control:checked~div.sk-toggleable__content {max-height: 200px;max-width: 100%;overflow: auto;}#sk-container-id-1 input.sk-toggleable__control:checked~label.sk-toggleable__label-arrow:before {content: \"▾\";}#sk-container-id-1 div.sk-estimator input.sk-toggleable__control:checked~label.sk-toggleable__label {background-color: #d4ebff;}#sk-container-id-1 div.sk-label input.sk-toggleable__control:checked~label.sk-toggleable__label {background-color: #d4ebff;}#sk-container-id-1 input.sk-hidden--visually {border: 0;clip: rect(1px 1px 1px 1px);clip: rect(1px, 1px, 1px, 1px);height: 1px;margin: -1px;overflow: hidden;padding: 0;position: absolute;width: 1px;}#sk-container-id-1 div.sk-estimator {font-family: monospace;background-color: #f0f8ff;border: 1px dotted black;border-radius: 0.25em;box-sizing: border-box;margin-bottom: 0.5em;}#sk-container-id-1 div.sk-estimator:hover {background-color: #d4ebff;}#sk-container-id-1 div.sk-parallel-item::after {content: \"\";width: 100%;border-bottom: 1px solid gray;flex-grow: 1;}#sk-container-id-1 div.sk-label:hover label.sk-toggleable__label {background-color: #d4ebff;}#sk-container-id-1 div.sk-serial::before {content: \"\";position: absolute;border-left: 1px solid gray;box-sizing: border-box;top: 0;bottom: 0;left: 50%;z-index: 0;}#sk-container-id-1 div.sk-serial {display: flex;flex-direction: column;align-items: center;background-color: white;padding-right: 0.2em;padding-left: 0.2em;position: relative;}#sk-container-id-1 div.sk-item {position: relative;z-index: 1;}#sk-container-id-1 div.sk-parallel {display: flex;align-items: stretch;justify-content: center;background-color: white;position: relative;}#sk-container-id-1 div.sk-item::before, #sk-container-id-1 div.sk-parallel-item::before {content: \"\";position: absolute;border-left: 1px solid gray;box-sizing: border-box;top: 0;bottom: 0;left: 50%;z-index: -1;}#sk-container-id-1 div.sk-parallel-item {display: flex;flex-direction: column;z-index: 1;position: relative;background-color: white;}#sk-container-id-1 div.sk-parallel-item:first-child::after {align-self: flex-end;width: 50%;}#sk-container-id-1 div.sk-parallel-item:last-child::after {align-self: flex-start;width: 50%;}#sk-container-id-1 div.sk-parallel-item:only-child::after {width: 0;}#sk-container-id-1 div.sk-dashed-wrapped {border: 1px dashed gray;margin: 0 0.4em 0.5em 0.4em;box-sizing: border-box;padding-bottom: 0.4em;background-color: white;}#sk-container-id-1 div.sk-label label {font-family: monospace;font-weight: bold;display: inline-block;line-height: 1.2em;}#sk-container-id-1 div.sk-label-container {text-align: center;}#sk-container-id-1 div.sk-container {/* jupyter's `normalize.less` sets `[hidden] { display: none; }` but bootstrap.min.css set `[hidden] { display: none !important; }` so we also need the `!important` here to be able to override the default hidden behavior on the sphinx rendered scikit-learn.org. See: https://github.com/scikit-learn/scikit-learn/issues/21755 */display: inline-block !important;position: relative;}#sk-container-id-1 div.sk-text-repr-fallback {display: none;}</style><div id=\"sk-container-id-1\" class=\"sk-top-container\"><div class=\"sk-text-repr-fallback\"><pre>GaussianNB()</pre><b>In a Jupyter environment, please rerun this cell to show the HTML representation or trust the notebook. <br />On GitHub, the HTML representation is unable to render, please try loading this page with nbviewer.org.</b></div><div class=\"sk-container\" hidden><div class=\"sk-item\"><div class=\"sk-estimator sk-toggleable\"><input class=\"sk-toggleable__control sk-hidden--visually\" id=\"sk-estimator-id-1\" type=\"checkbox\" checked><label for=\"sk-estimator-id-1\" class=\"sk-toggleable__label sk-toggleable__label-arrow\">GaussianNB</label><div class=\"sk-toggleable__content\"><pre>GaussianNB()</pre></div></div></div></div></div>"
      ],
      "text/plain": [
       "GaussianNB()"
      ]
     },
     "execution_count": 10,
     "metadata": {},
     "output_type": "execute_result"
    }
   ],
   "source": [
    "# treinamento do algoritmo,no caso, cria a tabela de probabilidades do Naïve Bayes\n",
    "\n",
    "naive_risco_credito = GaussianNB()\n",
    "naive_risco_credito.fit(X_risco_credito, y_risco_credito)\n",
    "# fit -> encaixar -> o algoritmo irá ser encaixado -> será criada a tabela de probabilidades"
   ]
  },
  {
   "cell_type": "code",
   "execution_count": 11,
   "id": "e134d11c",
   "metadata": {},
   "outputs": [],
   "source": [
    "# história boa (0), dívida alta (0), garantias nenhuma (1), renda > 35 (2)\n",
    "# história ruim(2), dívida alta (0), garantias adequadas (0), renda < 15 (0)\n",
    "\n",
    "previsao = naive_risco_credito.predict([[0, 0, 1, 2], [2, 0, 0, 0]])\n",
    "# temos um novo cliente e não sabemos sua classificação, queremos que o algoritmo preveja\n",
    "# predict retorna apenas a classe com a maior probabilidade, não retorna a estimativa"
   ]
  },
  {
   "cell_type": "code",
   "execution_count": 12,
   "id": "ef23699a",
   "metadata": {},
   "outputs": [
    {
     "data": {
      "text/plain": [
       "array(['baixo', 'moderado'], dtype='<U8')"
      ]
     },
     "execution_count": 12,
     "metadata": {},
     "output_type": "execute_result"
    }
   ],
   "source": [
    "previsao"
   ]
  },
  {
   "cell_type": "code",
   "execution_count": 13,
   "id": "2d82da0b",
   "metadata": {},
   "outputs": [
    {
     "data": {
      "text/plain": [
       "array(['alto', 'baixo', 'moderado'], dtype='<U8')"
      ]
     },
     "execution_count": 13,
     "metadata": {},
     "output_type": "execute_result"
    }
   ],
   "source": [
    "naive_risco_credito.classes_"
   ]
  },
  {
   "cell_type": "code",
   "execution_count": 14,
   "id": "085dffd1",
   "metadata": {},
   "outputs": [
    {
     "data": {
      "text/plain": [
       "array([6., 5., 3.])"
      ]
     },
     "execution_count": 14,
     "metadata": {},
     "output_type": "execute_result"
    }
   ],
   "source": [
    "naive_risco_credito.class_count_"
   ]
  },
  {
   "cell_type": "code",
   "execution_count": 15,
   "id": "d8a9cc6f",
   "metadata": {},
   "outputs": [
    {
     "data": {
      "text/plain": [
       "array([0.42857143, 0.35714286, 0.21428571])"
      ]
     },
     "execution_count": 15,
     "metadata": {},
     "output_type": "execute_result"
    }
   ],
   "source": [
    "# mostra qnt % um determinado attr significa da base de dados\n",
    "\n",
    "naive_risco_credito.class_prior_"
   ]
  },
  {
   "cell_type": "markdown",
   "id": "b83a516d",
   "metadata": {},
   "source": [
    "## Árvores de decisão"
   ]
  },
  {
   "cell_type": "code",
   "execution_count": 16,
   "id": "891275d6",
   "metadata": {},
   "outputs": [],
   "source": [
    "# DecisionTreeClassifier -> Classificador baseado em árvores de decisão\n",
    "from sklearn.tree import DecisionTreeClassifier"
   ]
  },
  {
   "cell_type": "code",
   "execution_count": 17,
   "id": "150f1a70",
   "metadata": {},
   "outputs": [],
   "source": [
    "import pickle \n",
    "with open('risco_credito.pkl', 'rb') as f:\n",
    "    X_risco_credito, y_risco_credito = pickle.load(f)"
   ]
  },
  {
   "cell_type": "code",
   "execution_count": 18,
   "id": "26578970",
   "metadata": {},
   "outputs": [
    {
     "data": {
      "text/plain": [
       "array([[2, 0, 1, 0],\n",
       "       [1, 0, 1, 1],\n",
       "       [1, 1, 1, 1],\n",
       "       [1, 1, 1, 2],\n",
       "       [1, 1, 1, 2],\n",
       "       [1, 1, 0, 2],\n",
       "       [2, 1, 1, 0],\n",
       "       [2, 1, 0, 2],\n",
       "       [0, 1, 1, 2],\n",
       "       [0, 0, 0, 2],\n",
       "       [0, 0, 1, 0],\n",
       "       [0, 0, 1, 1],\n",
       "       [0, 0, 1, 2],\n",
       "       [2, 0, 1, 1]], dtype=object)"
      ]
     },
     "execution_count": 18,
     "metadata": {},
     "output_type": "execute_result"
    }
   ],
   "source": [
    "X_risco_credito"
   ]
  },
  {
   "cell_type": "code",
   "execution_count": 19,
   "id": "57b4f8c1",
   "metadata": {},
   "outputs": [
    {
     "data": {
      "text/plain": [
       "array(['alto', 'alto', 'moderado', 'alto', 'baixo', 'baixo', 'alto',\n",
       "       'moderado', 'baixo', 'baixo', 'alto', 'moderado', 'baixo', 'alto'],\n",
       "      dtype=object)"
      ]
     },
     "execution_count": 19,
     "metadata": {},
     "output_type": "execute_result"
    }
   ],
   "source": [
    "y_risco_credito"
   ]
  },
  {
   "cell_type": "code",
   "execution_count": 20,
   "id": "42a6da1e",
   "metadata": {},
   "outputs": [
    {
     "data": {
      "text/html": [
       "<style>#sk-container-id-2 {color: black;background-color: white;}#sk-container-id-2 pre{padding: 0;}#sk-container-id-2 div.sk-toggleable {background-color: white;}#sk-container-id-2 label.sk-toggleable__label {cursor: pointer;display: block;width: 100%;margin-bottom: 0;padding: 0.3em;box-sizing: border-box;text-align: center;}#sk-container-id-2 label.sk-toggleable__label-arrow:before {content: \"▸\";float: left;margin-right: 0.25em;color: #696969;}#sk-container-id-2 label.sk-toggleable__label-arrow:hover:before {color: black;}#sk-container-id-2 div.sk-estimator:hover label.sk-toggleable__label-arrow:before {color: black;}#sk-container-id-2 div.sk-toggleable__content {max-height: 0;max-width: 0;overflow: hidden;text-align: left;background-color: #f0f8ff;}#sk-container-id-2 div.sk-toggleable__content pre {margin: 0.2em;color: black;border-radius: 0.25em;background-color: #f0f8ff;}#sk-container-id-2 input.sk-toggleable__control:checked~div.sk-toggleable__content {max-height: 200px;max-width: 100%;overflow: auto;}#sk-container-id-2 input.sk-toggleable__control:checked~label.sk-toggleable__label-arrow:before {content: \"▾\";}#sk-container-id-2 div.sk-estimator input.sk-toggleable__control:checked~label.sk-toggleable__label {background-color: #d4ebff;}#sk-container-id-2 div.sk-label input.sk-toggleable__control:checked~label.sk-toggleable__label {background-color: #d4ebff;}#sk-container-id-2 input.sk-hidden--visually {border: 0;clip: rect(1px 1px 1px 1px);clip: rect(1px, 1px, 1px, 1px);height: 1px;margin: -1px;overflow: hidden;padding: 0;position: absolute;width: 1px;}#sk-container-id-2 div.sk-estimator {font-family: monospace;background-color: #f0f8ff;border: 1px dotted black;border-radius: 0.25em;box-sizing: border-box;margin-bottom: 0.5em;}#sk-container-id-2 div.sk-estimator:hover {background-color: #d4ebff;}#sk-container-id-2 div.sk-parallel-item::after {content: \"\";width: 100%;border-bottom: 1px solid gray;flex-grow: 1;}#sk-container-id-2 div.sk-label:hover label.sk-toggleable__label {background-color: #d4ebff;}#sk-container-id-2 div.sk-serial::before {content: \"\";position: absolute;border-left: 1px solid gray;box-sizing: border-box;top: 0;bottom: 0;left: 50%;z-index: 0;}#sk-container-id-2 div.sk-serial {display: flex;flex-direction: column;align-items: center;background-color: white;padding-right: 0.2em;padding-left: 0.2em;position: relative;}#sk-container-id-2 div.sk-item {position: relative;z-index: 1;}#sk-container-id-2 div.sk-parallel {display: flex;align-items: stretch;justify-content: center;background-color: white;position: relative;}#sk-container-id-2 div.sk-item::before, #sk-container-id-2 div.sk-parallel-item::before {content: \"\";position: absolute;border-left: 1px solid gray;box-sizing: border-box;top: 0;bottom: 0;left: 50%;z-index: -1;}#sk-container-id-2 div.sk-parallel-item {display: flex;flex-direction: column;z-index: 1;position: relative;background-color: white;}#sk-container-id-2 div.sk-parallel-item:first-child::after {align-self: flex-end;width: 50%;}#sk-container-id-2 div.sk-parallel-item:last-child::after {align-self: flex-start;width: 50%;}#sk-container-id-2 div.sk-parallel-item:only-child::after {width: 0;}#sk-container-id-2 div.sk-dashed-wrapped {border: 1px dashed gray;margin: 0 0.4em 0.5em 0.4em;box-sizing: border-box;padding-bottom: 0.4em;background-color: white;}#sk-container-id-2 div.sk-label label {font-family: monospace;font-weight: bold;display: inline-block;line-height: 1.2em;}#sk-container-id-2 div.sk-label-container {text-align: center;}#sk-container-id-2 div.sk-container {/* jupyter's `normalize.less` sets `[hidden] { display: none; }` but bootstrap.min.css set `[hidden] { display: none !important; }` so we also need the `!important` here to be able to override the default hidden behavior on the sphinx rendered scikit-learn.org. See: https://github.com/scikit-learn/scikit-learn/issues/21755 */display: inline-block !important;position: relative;}#sk-container-id-2 div.sk-text-repr-fallback {display: none;}</style><div id=\"sk-container-id-2\" class=\"sk-top-container\"><div class=\"sk-text-repr-fallback\"><pre>DecisionTreeClassifier(criterion=&#x27;entropy&#x27;)</pre><b>In a Jupyter environment, please rerun this cell to show the HTML representation or trust the notebook. <br />On GitHub, the HTML representation is unable to render, please try loading this page with nbviewer.org.</b></div><div class=\"sk-container\" hidden><div class=\"sk-item\"><div class=\"sk-estimator sk-toggleable\"><input class=\"sk-toggleable__control sk-hidden--visually\" id=\"sk-estimator-id-2\" type=\"checkbox\" checked><label for=\"sk-estimator-id-2\" class=\"sk-toggleable__label sk-toggleable__label-arrow\">DecisionTreeClassifier</label><div class=\"sk-toggleable__content\"><pre>DecisionTreeClassifier(criterion=&#x27;entropy&#x27;)</pre></div></div></div></div></div>"
      ],
      "text/plain": [
       "DecisionTreeClassifier(criterion='entropy')"
      ]
     },
     "execution_count": 20,
     "metadata": {},
     "output_type": "execute_result"
    }
   ],
   "source": [
    "arvore_risco_credito = DecisionTreeClassifier(criterion='entropy')\n",
    "arvore_risco_credito.fit(X_risco_credito, y_risco_credito)"
   ]
  },
  {
   "cell_type": "code",
   "execution_count": 21,
   "id": "e5f91dee",
   "metadata": {},
   "outputs": [
    {
     "data": {
      "text/plain": [
       "array([0.48015651, 0.06408636, 0.03885431, 0.41690281])"
      ]
     },
     "execution_count": 21,
     "metadata": {},
     "output_type": "execute_result"
    }
   ],
   "source": [
    "# retorna a importância de cada atributo\n",
    "arvore_risco_credito.feature_importances_\n",
    "\n",
    "#     hist       divida      garantia    renda"
   ]
  },
  {
   "cell_type": "code",
   "execution_count": 22,
   "id": "f5a0ca0a",
   "metadata": {},
   "outputs": [
    {
     "data": {
      "text/plain": [
       "[Text(0.6, 0.9166666666666666, 'renda <= 1.5\\nentropy = 1.531\\nsamples = 14\\nvalue = [6, 5, 3]\\nclass = alto'),\n",
       " Text(0.4, 0.75, 'história <= 1.5\\nentropy = 0.863\\nsamples = 7\\nvalue = [5, 0, 2]\\nclass = alto'),\n",
       " Text(0.3, 0.5833333333333334, 'dívida <= 0.5\\nentropy = 1.0\\nsamples = 4\\nvalue = [2, 0, 2]\\nclass = alto'),\n",
       " Text(0.2, 0.4166666666666667, 'renda <= 0.5\\nentropy = 0.918\\nsamples = 3\\nvalue = [2, 0, 1]\\nclass = alto'),\n",
       " Text(0.1, 0.25, 'entropy = 0.0\\nsamples = 1\\nvalue = [1, 0, 0]\\nclass = alto'),\n",
       " Text(0.3, 0.25, 'história <= 0.5\\nentropy = 1.0\\nsamples = 2\\nvalue = [1, 0, 1]\\nclass = alto'),\n",
       " Text(0.2, 0.08333333333333333, 'entropy = 0.0\\nsamples = 1\\nvalue = [0, 0, 1]\\nclass = moderado'),\n",
       " Text(0.4, 0.08333333333333333, 'entropy = 0.0\\nsamples = 1\\nvalue = [1, 0, 0]\\nclass = alto'),\n",
       " Text(0.4, 0.4166666666666667, 'entropy = 0.0\\nsamples = 1\\nvalue = [0, 0, 1]\\nclass = moderado'),\n",
       " Text(0.5, 0.5833333333333334, 'entropy = 0.0\\nsamples = 3\\nvalue = [3, 0, 0]\\nclass = alto'),\n",
       " Text(0.8, 0.75, 'história <= 1.5\\nentropy = 1.149\\nsamples = 7\\nvalue = [1, 5, 1]\\nclass = baixo'),\n",
       " Text(0.7, 0.5833333333333334, 'história <= 0.5\\nentropy = 0.65\\nsamples = 6\\nvalue = [1, 5, 0]\\nclass = baixo'),\n",
       " Text(0.6, 0.4166666666666667, 'entropy = 0.0\\nsamples = 3\\nvalue = [0, 3, 0]\\nclass = baixo'),\n",
       " Text(0.8, 0.4166666666666667, 'garantias <= 0.5\\nentropy = 0.918\\nsamples = 3\\nvalue = [1, 2, 0]\\nclass = baixo'),\n",
       " Text(0.7, 0.25, 'entropy = 0.0\\nsamples = 1\\nvalue = [0, 1, 0]\\nclass = baixo'),\n",
       " Text(0.9, 0.25, 'entropy = 1.0\\nsamples = 2\\nvalue = [1, 1, 0]\\nclass = alto'),\n",
       " Text(0.9, 0.5833333333333334, 'entropy = 0.0\\nsamples = 1\\nvalue = [0, 0, 1]\\nclass = moderado')]"
      ]
     },
     "execution_count": 22,
     "metadata": {},
     "output_type": "execute_result"
    },
    {
     "data": {
      "image/png": "[encoded data removed]",
      "text/plain": [
       "<Figure size 1000x1000 with 1 Axes>"
      ]
     },
     "metadata": {},
     "output_type": "display_data"
    }
   ],
   "source": [
    "# visualização da árvore criada\n",
    "\n",
    "from sklearn import tree\n",
    "previsores = ['história', 'dívida', 'garantias', 'renda']\n",
    "figura, eixos = plt.subplots(nrows=1, ncols=1, figsize=(10,10))\n",
    "tree.plot_tree(arvore_risco_credito, feature_names=previsores, class_names = arvore_risco_credito.classes_, filled=True)"
   ]
  },
  {
   "cell_type": "code",
   "execution_count": 23,
   "id": "efc7a943",
   "metadata": {},
   "outputs": [
    {
     "data": {
      "text/plain": [
       "array(['baixo', 'alto', 'alto'], dtype=object)"
      ]
     },
     "execution_count": 23,
     "metadata": {},
     "output_type": "execute_result"
    }
   ],
   "source": [
    "# história boa (0), dívida alta (0), garantias nenhuma (1), renda > 35 (2)\n",
    "# história ruim(2), dívida alta (0), garantias adequadas (0), renda < 15 (0)\n",
    "\n",
    "previsoes = arvore_risco_credito.predict([[0, 0, 1, 2], [2, 0, 0, 0], [2, 0, 0, 1]])\n",
    "previsoes"
   ]
  },
  {
   "cell_type": "markdown",
   "id": "e471a08a",
   "metadata": {},
   "source": [
    "## Random Forest"
   ]
  },
  {
   "cell_type": "code",
   "execution_count": 24,
   "id": "72b610e0",
   "metadata": {},
   "outputs": [],
   "source": [
    "from sklearn.ensemble import RandomForestClassifier"
   ]
  },
  {
   "cell_type": "code",
   "execution_count": 25,
   "id": "8e6e3343",
   "metadata": {},
   "outputs": [],
   "source": [
    "import pickle \n",
    "with open('risco_credito.pkl', 'rb') as f:\n",
    "    X_risco_credito, y_risco_credito = pickle.load(f)"
   ]
  },
  {
   "cell_type": "code",
   "execution_count": 26,
   "id": "782cc1c1",
   "metadata": {},
   "outputs": [
    {
     "data": {
      "text/plain": [
       "array([[2, 0, 1, 0],\n",
       "       [1, 0, 1, 1],\n",
       "       [1, 1, 1, 1],\n",
       "       [1, 1, 1, 2],\n",
       "       [1, 1, 1, 2],\n",
       "       [1, 1, 0, 2],\n",
       "       [2, 1, 1, 0],\n",
       "       [2, 1, 0, 2],\n",
       "       [0, 1, 1, 2],\n",
       "       [0, 0, 0, 2],\n",
       "       [0, 0, 1, 0],\n",
       "       [0, 0, 1, 1],\n",
       "       [0, 0, 1, 2],\n",
       "       [2, 0, 1, 1]], dtype=object)"
      ]
     },
     "execution_count": 26,
     "metadata": {},
     "output_type": "execute_result"
    }
   ],
   "source": [
    "X_risco_credito"
   ]
  },
  {
   "cell_type": "code",
   "execution_count": 27,
   "id": "1680977c",
   "metadata": {},
   "outputs": [
    {
     "data": {
      "text/plain": [
       "array(['alto', 'alto', 'moderado', 'alto', 'baixo', 'baixo', 'alto',\n",
       "       'moderado', 'baixo', 'baixo', 'alto', 'moderado', 'baixo', 'alto'],\n",
       "      dtype=object)"
      ]
     },
     "execution_count": 27,
     "metadata": {},
     "output_type": "execute_result"
    }
   ],
   "source": [
    "y_risco_credito"
   ]
  },
  {
   "cell_type": "code",
   "execution_count": 28,
   "id": "2b55e6e1",
   "metadata": {},
   "outputs": [
    {
     "data": {
      "text/html": [
       "<style>#sk-container-id-3 {color: black;background-color: white;}#sk-container-id-3 pre{padding: 0;}#sk-container-id-3 div.sk-toggleable {background-color: white;}#sk-container-id-3 label.sk-toggleable__label {cursor: pointer;display: block;width: 100%;margin-bottom: 0;padding: 0.3em;box-sizing: border-box;text-align: center;}#sk-container-id-3 label.sk-toggleable__label-arrow:before {content: \"▸\";float: left;margin-right: 0.25em;color: #696969;}#sk-container-id-3 label.sk-toggleable__label-arrow:hover:before {color: black;}#sk-container-id-3 div.sk-estimator:hover label.sk-toggleable__label-arrow:before {color: black;}#sk-container-id-3 div.sk-toggleable__content {max-height: 0;max-width: 0;overflow: hidden;text-align: left;background-color: #f0f8ff;}#sk-container-id-3 div.sk-toggleable__content pre {margin: 0.2em;color: black;border-radius: 0.25em;background-color: #f0f8ff;}#sk-container-id-3 input.sk-toggleable__control:checked~div.sk-toggleable__content {max-height: 200px;max-width: 100%;overflow: auto;}#sk-container-id-3 input.sk-toggleable__control:checked~label.sk-toggleable__label-arrow:before {content: \"▾\";}#sk-container-id-3 div.sk-estimator input.sk-toggleable__control:checked~label.sk-toggleable__label {background-color: #d4ebff;}#sk-container-id-3 div.sk-label input.sk-toggleable__control:checked~label.sk-toggleable__label {background-color: #d4ebff;}#sk-container-id-3 input.sk-hidden--visually {border: 0;clip: rect(1px 1px 1px 1px);clip: rect(1px, 1px, 1px, 1px);height: 1px;margin: -1px;overflow: hidden;padding: 0;position: absolute;width: 1px;}#sk-container-id-3 div.sk-estimator {font-family: monospace;background-color: #f0f8ff;border: 1px dotted black;border-radius: 0.25em;box-sizing: border-box;margin-bottom: 0.5em;}#sk-container-id-3 div.sk-estimator:hover {background-color: #d4ebff;}#sk-container-id-3 div.sk-parallel-item::after {content: \"\";width: 100%;border-bottom: 1px solid gray;flex-grow: 1;}#sk-container-id-3 div.sk-label:hover label.sk-toggleable__label {background-color: #d4ebff;}#sk-container-id-3 div.sk-serial::before {content: \"\";position: absolute;border-left: 1px solid gray;box-sizing: border-box;top: 0;bottom: 0;left: 50%;z-index: 0;}#sk-container-id-3 div.sk-serial {display: flex;flex-direction: column;align-items: center;background-color: white;padding-right: 0.2em;padding-left: 0.2em;position: relative;}#sk-container-id-3 div.sk-item {position: relative;z-index: 1;}#sk-container-id-3 div.sk-parallel {display: flex;align-items: stretch;justify-content: center;background-color: white;position: relative;}#sk-container-id-3 div.sk-item::before, #sk-container-id-3 div.sk-parallel-item::before {content: \"\";position: absolute;border-left: 1px solid gray;box-sizing: border-box;top: 0;bottom: 0;left: 50%;z-index: -1;}#sk-container-id-3 div.sk-parallel-item {display: flex;flex-direction: column;z-index: 1;position: relative;background-color: white;}#sk-container-id-3 div.sk-parallel-item:first-child::after {align-self: flex-end;width: 50%;}#sk-container-id-3 div.sk-parallel-item:last-child::after {align-self: flex-start;width: 50%;}#sk-container-id-3 div.sk-parallel-item:only-child::after {width: 0;}#sk-container-id-3 div.sk-dashed-wrapped {border: 1px dashed gray;margin: 0 0.4em 0.5em 0.4em;box-sizing: border-box;padding-bottom: 0.4em;background-color: white;}#sk-container-id-3 div.sk-label label {font-family: monospace;font-weight: bold;display: inline-block;line-height: 1.2em;}#sk-container-id-3 div.sk-label-container {text-align: center;}#sk-container-id-3 div.sk-container {/* jupyter's `normalize.less` sets `[hidden] { display: none; }` but bootstrap.min.css set `[hidden] { display: none !important; }` so we also need the `!important` here to be able to override the default hidden behavior on the sphinx rendered scikit-learn.org. See: https://github.com/scikit-learn/scikit-learn/issues/21755 */display: inline-block !important;position: relative;}#sk-container-id-3 div.sk-text-repr-fallback {display: none;}</style><div id=\"sk-container-id-3\" class=\"sk-top-container\"><div class=\"sk-text-repr-fallback\"><pre>RandomForestClassifier(criterion=&#x27;entropy&#x27;, n_estimators=40, random_state=0)</pre><b>In a Jupyter environment, please rerun this cell to show the HTML representation or trust the notebook. <br />On GitHub, the HTML representation is unable to render, please try loading this page with nbviewer.org.</b></div><div class=\"sk-container\" hidden><div class=\"sk-item\"><div class=\"sk-estimator sk-toggleable\"><input class=\"sk-toggleable__control sk-hidden--visually\" id=\"sk-estimator-id-3\" type=\"checkbox\" checked><label for=\"sk-estimator-id-3\" class=\"sk-toggleable__label sk-toggleable__label-arrow\">RandomForestClassifier</label><div class=\"sk-toggleable__content\"><pre>RandomForestClassifier(criterion=&#x27;entropy&#x27;, n_estimators=40, random_state=0)</pre></div></div></div></div></div>"
      ],
      "text/plain": [
       "RandomForestClassifier(criterion='entropy', n_estimators=40, random_state=0)"
      ]
     },
     "execution_count": 28,
     "metadata": {},
     "output_type": "execute_result"
    }
   ],
   "source": [
    "rf_risco_credito = RandomForestClassifier(n_estimators=40, criterion='entropy', random_state=0)\n",
    "rf_risco_credito.fit(X_risco_credito, y_risco_credito)"
   ]
  },
  {
   "cell_type": "code",
   "execution_count": 29,
   "id": "f151635b",
   "metadata": {},
   "outputs": [
    {
     "data": {
      "text/plain": [
       "array(['alto', 'alto'], dtype=object)"
      ]
     },
     "execution_count": 29,
     "metadata": {},
     "output_type": "execute_result"
    }
   ],
   "source": [
    "previsoes = rf_risco_credito.predict([[2,0,0,1], [1,0,2,0]])\n",
    "previsoes"
   ]
  },
  {
   "cell_type": "markdown",
   "id": "4f258a88",
   "metadata": {},
   "source": [
    "## Aprendizagem por regras - "
   ]
  },
  {
   "cell_type": "code",
   "execution_count": 30,
   "id": "a39d0df9",
   "metadata": {},
   "outputs": [
    {
     "name": "stdout",
     "output_type": "stream",
     "text": [
      "Requirement already satisfied: Orange3 in ./env2/lib/python3.8/site-packages (3.34.1)\n",
      "Requirement already satisfied: keyrings.alt in ./env2/lib/python3.8/site-packages (from Orange3) (4.2.0)\n",
      "Requirement already satisfied: pyyaml in ./env2/lib/python3.8/site-packages (from Orange3) (6.0)\n",
      "Requirement already satisfied: xlsxwriter in ./env2/lib/python3.8/site-packages (from Orange3) (3.0.9)\n",
      "Requirement already satisfied: AnyQt>=0.1.0 in ./env2/lib/python3.8/site-packages (from Orange3) (0.2.0)\n",
      "Requirement already satisfied: qtconsole>=4.7.2 in ./env2/lib/python3.8/site-packages (from Orange3) (5.4.0)\n",
      "Requirement already satisfied: numpy>=1.19.5 in ./env2/lib/python3.8/site-packages (from Orange3) (1.24.2)\n",
      "Requirement already satisfied: pandas!=1.5.0,>=1.3.0 in ./env2/lib/python3.8/site-packages (from Orange3) (1.5.3)\n",
      "Requirement already satisfied: openTSNE>=0.6.1 in ./env2/lib/python3.8/site-packages (from Orange3) (0.7.1)\n",
      "Requirement already satisfied: chardet>=3.0.2 in ./env2/lib/python3.8/site-packages (from Orange3) (5.1.0)\n",
      "Requirement already satisfied: openpyxl in ./env2/lib/python3.8/site-packages (from Orange3) (3.1.2)\n",
      "Requirement already satisfied: pygments>=2.8.0 in ./env2/lib/python3.8/site-packages (from Orange3) (2.14.0)\n",
      "Requirement already satisfied: pyqtgraph!=0.12.4,>=0.12.2 in ./env2/lib/python3.8/site-packages (from Orange3) (0.13.2)\n",
      "Requirement already satisfied: keyring in ./env2/lib/python3.8/site-packages (from Orange3) (23.13.1)\n",
      "Requirement already satisfied: orange-canvas-core<0.2a,>=0.1.28 in ./env2/lib/python3.8/site-packages (from Orange3) (0.1.30)\n",
      "Requirement already satisfied: matplotlib>=3.2.0 in ./env2/lib/python3.8/site-packages (from Orange3) (3.7.1)\n",
      "Requirement already satisfied: orange-widget-base>=4.19.0 in ./env2/lib/python3.8/site-packages (from Orange3) (4.20.0)\n",
      "Requirement already satisfied: setuptools>=41.0.0 in ./env2/lib/python3.8/site-packages (from Orange3) (67.4.0)\n",
      "Requirement already satisfied: python-louvain>=0.13 in ./env2/lib/python3.8/site-packages (from Orange3) (0.16)\n",
      "Requirement already satisfied: baycomp>=1.0.2 in ./env2/lib/python3.8/site-packages (from Orange3) (1.0.2)\n",
      "Requirement already satisfied: joblib>=0.11 in ./env2/lib/python3.8/site-packages (from Orange3) (1.2.0)\n",
      "Requirement already satisfied: httpx>=0.21.0 in ./env2/lib/python3.8/site-packages (from Orange3) (0.23.3)\n",
      "Requirement already satisfied: serverfiles in ./env2/lib/python3.8/site-packages (from Orange3) (0.3.1)\n",
      "Requirement already satisfied: xlrd>=1.2.0 in ./env2/lib/python3.8/site-packages (from Orange3) (2.0.1)\n",
      "Requirement already satisfied: pip>=18.0 in ./env2/lib/python3.8/site-packages (from Orange3) (23.0.1)\n",
      "Requirement already satisfied: bottleneck>=1.3.4 in ./env2/lib/python3.8/site-packages (from Orange3) (1.3.7)\n",
      "Requirement already satisfied: requests in ./env2/lib/python3.8/site-packages (from Orange3) (2.28.2)\n",
      "Requirement already satisfied: networkx in ./env2/lib/python3.8/site-packages (from Orange3) (3.0)\n",
      "Requirement already satisfied: scipy>=1.9 in ./env2/lib/python3.8/site-packages (from Orange3) (1.10.1)\n",
      "Requirement already satisfied: scikit-learn<1.2.0,>=1.0.1 in ./env2/lib/python3.8/site-packages (from Orange3) (1.1.3)\n",
      "Requirement already satisfied: certifi in ./env2/lib/python3.8/site-packages (from httpx>=0.21.0->Orange3) (2022.12.7)\n",
      "Requirement already satisfied: httpcore<0.17.0,>=0.15.0 in ./env2/lib/python3.8/site-packages (from httpx>=0.21.0->Orange3) (0.16.3)\n",
      "Requirement already satisfied: sniffio in ./env2/lib/python3.8/site-packages (from httpx>=0.21.0->Orange3) (1.3.0)\n",
      "Requirement already satisfied: rfc3986[idna2008]<2,>=1.3 in ./env2/lib/python3.8/site-packages (from httpx>=0.21.0->Orange3) (1.5.0)\n",
      "Requirement already satisfied: pillow>=6.2.0 in ./env2/lib/python3.8/site-packages (from matplotlib>=3.2.0->Orange3) (9.4.0)\n",
      "Requirement already satisfied: kiwisolver>=1.0.1 in ./env2/lib/python3.8/site-packages (from matplotlib>=3.2.0->Orange3) (1.4.4)\n",
      "Requirement already satisfied: packaging>=20.0 in ./env2/lib/python3.8/site-packages (from matplotlib>=3.2.0->Orange3) (23.0)\n",
      "Requirement already satisfied: pyparsing>=2.3.1 in ./env2/lib/python3.8/site-packages (from matplotlib>=3.2.0->Orange3) (3.0.9)\n",
      "Requirement already satisfied: python-dateutil>=2.7 in ./env2/lib/python3.8/site-packages (from matplotlib>=3.2.0->Orange3) (2.8.2)\n",
      "Requirement already satisfied: importlib-resources>=3.2.0 in ./env2/lib/python3.8/site-packages (from matplotlib>=3.2.0->Orange3) (5.12.0)\n",
      "Requirement already satisfied: fonttools>=4.22.0 in ./env2/lib/python3.8/site-packages (from matplotlib>=3.2.0->Orange3) (4.39.0)\n",
      "Requirement already satisfied: cycler>=0.10 in ./env2/lib/python3.8/site-packages (from matplotlib>=3.2.0->Orange3) (0.11.0)\n",
      "Requirement already satisfied: contourpy>=1.0.1 in ./env2/lib/python3.8/site-packages (from matplotlib>=3.2.0->Orange3) (1.0.7)\n",
      "Requirement already satisfied: qasync in ./env2/lib/python3.8/site-packages (from orange-canvas-core<0.2a,>=0.1.28->Orange3) (0.23.0)\n",
      "Requirement already satisfied: docutils in ./env2/lib/python3.8/site-packages (from orange-canvas-core<0.2a,>=0.1.28->Orange3) (0.19)\n",
      "Requirement already satisfied: dictdiffer in ./env2/lib/python3.8/site-packages (from orange-canvas-core<0.2a,>=0.1.28->Orange3) (0.9.0)\n",
      "Requirement already satisfied: commonmark>=0.8.1 in ./env2/lib/python3.8/site-packages (from orange-canvas-core<0.2a,>=0.1.28->Orange3) (0.9.1)\n",
      "Requirement already satisfied: cachecontrol[filecache] in ./env2/lib/python3.8/site-packages (from orange-canvas-core<0.2a,>=0.1.28->Orange3) (0.12.11)\n",
      "Requirement already satisfied: typing-extensions>=3.7.4.3 in ./env2/lib/python3.8/site-packages (from orange-widget-base>=4.19.0->Orange3) (4.5.0)\n",
      "Requirement already satisfied: pytz>=2020.1 in ./env2/lib/python3.8/site-packages (from pandas!=1.5.0,>=1.3.0->Orange3) (2022.7.1)\n",
      "Requirement already satisfied: jupyter-core in ./env2/lib/python3.8/site-packages (from qtconsole>=4.7.2->Orange3) (5.2.0)\n",
      "Requirement already satisfied: ipython-genutils in ./env2/lib/python3.8/site-packages (from qtconsole>=4.7.2->Orange3) (0.2.0)\n",
      "Requirement already satisfied: jupyter-client>=4.1 in ./env2/lib/python3.8/site-packages (from qtconsole>=4.7.2->Orange3) (8.0.3)\n",
      "Requirement already satisfied: qtpy>=2.0.1 in ./env2/lib/python3.8/site-packages (from qtconsole>=4.7.2->Orange3) (2.3.0)\n",
      "Requirement already satisfied: traitlets!=5.2.1,!=5.2.2 in ./env2/lib/python3.8/site-packages (from qtconsole>=4.7.2->Orange3) (5.9.0)\n",
      "Requirement already satisfied: ipykernel>=4.1 in ./env2/lib/python3.8/site-packages (from qtconsole>=4.7.2->Orange3) (6.21.3)\n",
      "Requirement already satisfied: pyzmq>=17.1 in ./env2/lib/python3.8/site-packages (from qtconsole>=4.7.2->Orange3) (25.0.0)\n",
      "Requirement already satisfied: threadpoolctl>=2.0.0 in ./env2/lib/python3.8/site-packages (from scikit-learn<1.2.0,>=1.0.1->Orange3) (3.1.0)\n",
      "Requirement already satisfied: jeepney>=0.4.2 in ./env2/lib/python3.8/site-packages (from keyring->Orange3) (0.8.0)\n",
      "Requirement already satisfied: importlib-metadata>=4.11.4 in ./env2/lib/python3.8/site-packages (from keyring->Orange3) (6.0.0)\n",
      "Requirement already satisfied: jaraco.classes in ./env2/lib/python3.8/site-packages (from keyring->Orange3) (3.2.3)\n",
      "Requirement already satisfied: SecretStorage>=3.2 in ./env2/lib/python3.8/site-packages (from keyring->Orange3) (3.3.3)\n",
      "Requirement already satisfied: et-xmlfile in ./env2/lib/python3.8/site-packages (from openpyxl->Orange3) (1.1.0)\n",
      "Requirement already satisfied: idna<4,>=2.5 in ./env2/lib/python3.8/site-packages (from requests->Orange3) (3.4)\n",
      "Requirement already satisfied: urllib3<1.27,>=1.21.1 in ./env2/lib/python3.8/site-packages (from requests->Orange3) (1.26.15)\n",
      "Requirement already satisfied: charset-normalizer<4,>=2 in ./env2/lib/python3.8/site-packages (from requests->Orange3) (3.1.0)\n",
      "Requirement already satisfied: h11<0.15,>=0.13 in ./env2/lib/python3.8/site-packages (from httpcore<0.17.0,>=0.15.0->httpx>=0.21.0->Orange3) (0.14.0)\n",
      "Requirement already satisfied: anyio<5.0,>=3.0 in ./env2/lib/python3.8/site-packages (from httpcore<0.17.0,>=0.15.0->httpx>=0.21.0->Orange3) (3.6.2)\n",
      "Requirement already satisfied: zipp>=0.5 in ./env2/lib/python3.8/site-packages (from importlib-metadata>=4.11.4->keyring->Orange3) (3.15.0)\n"
     ]
    },
    {
     "name": "stdout",
     "output_type": "stream",
     "text": [
      "Requirement already satisfied: tornado>=6.1 in ./env2/lib/python3.8/site-packages (from ipykernel>=4.1->qtconsole>=4.7.2->Orange3) (6.2)\n",
      "Requirement already satisfied: debugpy>=1.6.5 in ./env2/lib/python3.8/site-packages (from ipykernel>=4.1->qtconsole>=4.7.2->Orange3) (1.6.6)\n",
      "Requirement already satisfied: comm>=0.1.1 in ./env2/lib/python3.8/site-packages (from ipykernel>=4.1->qtconsole>=4.7.2->Orange3) (0.1.2)\n",
      "Requirement already satisfied: nest-asyncio in ./env2/lib/python3.8/site-packages (from ipykernel>=4.1->qtconsole>=4.7.2->Orange3) (1.5.6)\n",
      "Requirement already satisfied: psutil in ./env2/lib/python3.8/site-packages (from ipykernel>=4.1->qtconsole>=4.7.2->Orange3) (5.9.4)\n",
      "Requirement already satisfied: matplotlib-inline>=0.1 in ./env2/lib/python3.8/site-packages (from ipykernel>=4.1->qtconsole>=4.7.2->Orange3) (0.1.6)\n",
      "Requirement already satisfied: ipython>=7.23.1 in ./env2/lib/python3.8/site-packages (from ipykernel>=4.1->qtconsole>=4.7.2->Orange3) (8.11.0)\n",
      "Requirement already satisfied: platformdirs>=2.5 in ./env2/lib/python3.8/site-packages (from jupyter-core->qtconsole>=4.7.2->Orange3) (3.1.0)\n",
      "Requirement already satisfied: six>=1.5 in ./env2/lib/python3.8/site-packages (from python-dateutil>=2.7->matplotlib>=3.2.0->Orange3) (1.16.0)\n",
      "Requirement already satisfied: cryptography>=2.0 in ./env2/lib/python3.8/site-packages (from SecretStorage>=3.2->keyring->Orange3) (39.0.2)\n",
      "Requirement already satisfied: msgpack>=0.5.2 in ./env2/lib/python3.8/site-packages (from cachecontrol[filecache]->orange-canvas-core<0.2a,>=0.1.28->Orange3) (1.0.5)\n",
      "Requirement already satisfied: lockfile>=0.9 in ./env2/lib/python3.8/site-packages (from cachecontrol[filecache]->orange-canvas-core<0.2a,>=0.1.28->Orange3) (0.12.2)\n",
      "Requirement already satisfied: more-itertools in ./env2/lib/python3.8/site-packages (from jaraco.classes->keyring->Orange3) (9.1.0)\n",
      "Requirement already satisfied: cffi>=1.12 in ./env2/lib/python3.8/site-packages (from cryptography>=2.0->SecretStorage>=3.2->keyring->Orange3) (1.15.1)\n",
      "Requirement already satisfied: pexpect>4.3 in ./env2/lib/python3.8/site-packages (from ipython>=7.23.1->ipykernel>=4.1->qtconsole>=4.7.2->Orange3) (4.8.0)\n",
      "Requirement already satisfied: prompt-toolkit!=3.0.37,<3.1.0,>=3.0.30 in ./env2/lib/python3.8/site-packages (from ipython>=7.23.1->ipykernel>=4.1->qtconsole>=4.7.2->Orange3) (3.0.38)\n",
      "Requirement already satisfied: decorator in ./env2/lib/python3.8/site-packages (from ipython>=7.23.1->ipykernel>=4.1->qtconsole>=4.7.2->Orange3) (5.1.1)\n",
      "Requirement already satisfied: backcall in ./env2/lib/python3.8/site-packages (from ipython>=7.23.1->ipykernel>=4.1->qtconsole>=4.7.2->Orange3) (0.2.0)\n",
      "Requirement already satisfied: jedi>=0.16 in ./env2/lib/python3.8/site-packages (from ipython>=7.23.1->ipykernel>=4.1->qtconsole>=4.7.2->Orange3) (0.18.2)\n",
      "Requirement already satisfied: stack-data in ./env2/lib/python3.8/site-packages (from ipython>=7.23.1->ipykernel>=4.1->qtconsole>=4.7.2->Orange3) (0.6.2)\n",
      "Requirement already satisfied: pickleshare in ./env2/lib/python3.8/site-packages (from ipython>=7.23.1->ipykernel>=4.1->qtconsole>=4.7.2->Orange3) (0.7.5)\n",
      "Requirement already satisfied: pycparser in ./env2/lib/python3.8/site-packages (from cffi>=1.12->cryptography>=2.0->SecretStorage>=3.2->keyring->Orange3) (2.21)\n",
      "Requirement already satisfied: parso<0.9.0,>=0.8.0 in ./env2/lib/python3.8/site-packages (from jedi>=0.16->ipython>=7.23.1->ipykernel>=4.1->qtconsole>=4.7.2->Orange3) (0.8.3)\n",
      "Requirement already satisfied: ptyprocess>=0.5 in ./env2/lib/python3.8/site-packages (from pexpect>4.3->ipython>=7.23.1->ipykernel>=4.1->qtconsole>=4.7.2->Orange3) (0.7.0)\n",
      "Requirement already satisfied: wcwidth in ./env2/lib/python3.8/site-packages (from prompt-toolkit!=3.0.37,<3.1.0,>=3.0.30->ipython>=7.23.1->ipykernel>=4.1->qtconsole>=4.7.2->Orange3) (0.2.6)\n",
      "Requirement already satisfied: executing>=1.2.0 in ./env2/lib/python3.8/site-packages (from stack-data->ipython>=7.23.1->ipykernel>=4.1->qtconsole>=4.7.2->Orange3) (1.2.0)\n",
      "Requirement already satisfied: pure-eval in ./env2/lib/python3.8/site-packages (from stack-data->ipython>=7.23.1->ipykernel>=4.1->qtconsole>=4.7.2->Orange3) (0.2.2)\n",
      "Requirement already satisfied: asttokens>=2.1.0 in ./env2/lib/python3.8/site-packages (from stack-data->ipython>=7.23.1->ipykernel>=4.1->qtconsole>=4.7.2->Orange3) (2.2.1)\n"
     ]
    }
   ],
   "source": [
    "!pip install Orange3"
   ]
  },
  {
   "cell_type": "code",
   "execution_count": 31,
   "id": "4c8127a1",
   "metadata": {},
   "outputs": [],
   "source": [
    "import Orange"
   ]
  },
  {
   "cell_type": "code",
   "execution_count": 32,
   "id": "b22ce4ec",
   "metadata": {},
   "outputs": [],
   "source": [
    "base_risco_credito = Orange.data.Table('risco_credito_regras.csv')"
   ]
  },
  {
   "cell_type": "code",
   "execution_count": 33,
   "id": "e19de6cc",
   "metadata": {},
   "outputs": [
    {
     "data": {
      "text/plain": [
       "[[ruim, alta, nenhuma, 0_15 | alto],\n",
       " [desconhecida, alta, nenhuma, 15_35 | alto],\n",
       " [desconhecida, baixa, nenhuma, 15_35 | moderado],\n",
       " [desconhecida, baixa, nenhuma, acima_35 | alto],\n",
       " [desconhecida, baixa, nenhuma, acima_35 | baixo],\n",
       " ...\n",
       "]"
      ]
     },
     "execution_count": 33,
     "metadata": {},
     "output_type": "execute_result"
    }
   ],
   "source": [
    "base_risco_credito"
   ]
  },
  {
   "cell_type": "code",
   "execution_count": 34,
   "id": "e5d1da3b",
   "metadata": {},
   "outputs": [
    {
     "data": {
      "text/plain": [
       "[historia, divida, garantias, renda | risco]"
      ]
     },
     "execution_count": 34,
     "metadata": {},
     "output_type": "execute_result"
    }
   ],
   "source": [
    "base_risco_credito.domain"
   ]
  },
  {
   "cell_type": "code",
   "execution_count": 35,
   "id": "e32a0f1e",
   "metadata": {},
   "outputs": [],
   "source": [
    "cn2 = Orange.classification.rules.CN2Learner()\n",
    "regras_risco_credito = cn2(base_risco_credito)"
   ]
  },
  {
   "cell_type": "code",
   "execution_count": 36,
   "id": "fa5ce1c0",
   "metadata": {},
   "outputs": [
    {
     "name": "stdout",
     "output_type": "stream",
     "text": [
      "IF renda==0_15 THEN risco=alto \n",
      "IF historia==boa AND divida!=alta THEN risco=baixo \n",
      "IF historia==boa AND garantias!=nenhuma THEN risco=baixo \n",
      "IF historia==boa AND renda!=15_35 THEN risco=baixo \n",
      "IF historia==boa THEN risco=moderado \n",
      "IF divida==alta THEN risco=alto \n",
      "IF historia!=desconhecida THEN risco=moderado \n",
      "IF garantias==adequada THEN risco=baixo \n",
      "IF renda==15_35 THEN risco=moderado \n",
      "IF historia==desconhecida THEN risco=baixo \n",
      "IF TRUE THEN risco=alto \n"
     ]
    }
   ],
   "source": [
    "for regra in regras_risco_credito.rule_list:\n",
    "    print(regra)"
   ]
  },
  {
   "cell_type": "code",
   "execution_count": 37,
   "id": "572a70fe",
   "metadata": {},
   "outputs": [
    {
     "data": {
      "text/plain": [
       "array([1, 0])"
      ]
     },
     "execution_count": 37,
     "metadata": {},
     "output_type": "execute_result"
    }
   ],
   "source": [
    "previsoes = regras_risco_credito([['boa', 'alta', 'nenhuma', 'acima_35'], ['ruim', 'alta', 'adequada', '0_15']])\n",
    "previsoes"
   ]
  },
  {
   "cell_type": "code",
   "execution_count": 38,
   "id": "79b79fa1",
   "metadata": {},
   "outputs": [
    {
     "data": {
      "text/plain": [
       "('alto', 'baixo', 'moderado')"
      ]
     },
     "execution_count": 38,
     "metadata": {},
     "output_type": "execute_result"
    }
   ],
   "source": [
    "base_risco_credito.domain.class_var.values"
   ]
  },
  {
   "cell_type": "code",
   "execution_count": 39,
   "id": "2ce280b4",
   "metadata": {},
   "outputs": [
    {
     "name": "stdout",
     "output_type": "stream",
     "text": [
      "1\n",
      "baixo\n",
      "0\n",
      "alto\n"
     ]
    }
   ],
   "source": [
    "for i in previsoes:\n",
    "    print(i)\n",
    "    print(base_risco_credito.domain.class_var.values[i])"
   ]
  },
  {
   "cell_type": "markdown",
   "id": "8c303e17",
   "metadata": {},
   "source": [
    "## Regressão logística - "
   ]
  },
  {
   "cell_type": "code",
   "execution_count": 40,
   "id": "603fac76",
   "metadata": {},
   "outputs": [
    {
     "data": {
      "text/plain": [
       "14"
      ]
     },
     "execution_count": 40,
     "metadata": {},
     "output_type": "execute_result"
    }
   ],
   "source": [
    "import pickle \n",
    "with open('risco_credito.pkl', 'rb') as f:\n",
    "    X_risco_credito, y_risco_credito = pickle.load(f)\n",
    "\n",
    "len(X_risco_credito)"
   ]
  },
  {
   "cell_type": "code",
   "execution_count": 41,
   "id": "df0bcc9a",
   "metadata": {},
   "outputs": [
    {
     "data": {
      "text/plain": [
       "array([[2, 0, 1, 0],\n",
       "       [1, 0, 1, 1],\n",
       "       [1, 1, 1, 1],\n",
       "       [1, 1, 1, 2],\n",
       "       [1, 1, 1, 2],\n",
       "       [1, 1, 0, 2],\n",
       "       [2, 1, 1, 0],\n",
       "       [2, 1, 0, 2],\n",
       "       [0, 1, 1, 2],\n",
       "       [0, 0, 0, 2],\n",
       "       [0, 0, 1, 0],\n",
       "       [0, 0, 1, 1],\n",
       "       [0, 0, 1, 2],\n",
       "       [2, 0, 1, 1]], dtype=object)"
      ]
     },
     "execution_count": 41,
     "metadata": {},
     "output_type": "execute_result"
    }
   ],
   "source": [
    "X_risco_credito"
   ]
  },
  {
   "cell_type": "code",
   "execution_count": 42,
   "id": "42e0c7cc",
   "metadata": {},
   "outputs": [
    {
     "data": {
      "text/plain": [
       "array(['alto', 'alto', 'moderado', 'alto', 'baixo', 'baixo', 'alto',\n",
       "       'moderado', 'baixo', 'baixo', 'alto', 'moderado', 'baixo', 'alto'],\n",
       "      dtype=object)"
      ]
     },
     "execution_count": 42,
     "metadata": {},
     "output_type": "execute_result"
    }
   ],
   "source": [
    "y_risco_credito"
   ]
  },
  {
   "cell_type": "code",
   "execution_count": 43,
   "id": "11cc961a",
   "metadata": {},
   "outputs": [],
   "source": [
    "X_risco_credito = np.delete(X_risco_credito, [2, 7, 11], axis = 0)\n",
    "y_risco_credito = np.delete(y_risco_credito, [2, 7, 11], axis = 0)"
   ]
  },
  {
   "cell_type": "code",
   "execution_count": 44,
   "id": "4ab59e15",
   "metadata": {},
   "outputs": [
    {
     "data": {
      "text/plain": [
       "array([[2, 0, 1, 0],\n",
       "       [1, 0, 1, 1],\n",
       "       [1, 1, 1, 2],\n",
       "       [1, 1, 1, 2],\n",
       "       [1, 1, 0, 2],\n",
       "       [2, 1, 1, 0],\n",
       "       [0, 1, 1, 2],\n",
       "       [0, 0, 0, 2],\n",
       "       [0, 0, 1, 0],\n",
       "       [0, 0, 1, 2],\n",
       "       [2, 0, 1, 1]], dtype=object)"
      ]
     },
     "execution_count": 44,
     "metadata": {},
     "output_type": "execute_result"
    }
   ],
   "source": [
    "X_risco_credito"
   ]
  },
  {
   "cell_type": "code",
   "execution_count": 45,
   "id": "f101c7e4",
   "metadata": {},
   "outputs": [
    {
     "data": {
      "text/plain": [
       "array(['alto', 'alto', 'alto', 'baixo', 'baixo', 'alto', 'baixo', 'baixo',\n",
       "       'alto', 'baixo', 'alto'], dtype=object)"
      ]
     },
     "execution_count": 45,
     "metadata": {},
     "output_type": "execute_result"
    }
   ],
   "source": [
    "y_risco_credito"
   ]
  },
  {
   "cell_type": "code",
   "execution_count": 46,
   "id": "e48c8866",
   "metadata": {},
   "outputs": [],
   "source": [
    "from sklearn.linear_model import LogisticRegression"
   ]
  },
  {
   "cell_type": "code",
   "execution_count": 47,
   "id": "5f57d020",
   "metadata": {},
   "outputs": [
    {
     "data": {
      "text/html": [
       "<style>#sk-container-id-4 {color: black;background-color: white;}#sk-container-id-4 pre{padding: 0;}#sk-container-id-4 div.sk-toggleable {background-color: white;}#sk-container-id-4 label.sk-toggleable__label {cursor: pointer;display: block;width: 100%;margin-bottom: 0;padding: 0.3em;box-sizing: border-box;text-align: center;}#sk-container-id-4 label.sk-toggleable__label-arrow:before {content: \"▸\";float: left;margin-right: 0.25em;color: #696969;}#sk-container-id-4 label.sk-toggleable__label-arrow:hover:before {color: black;}#sk-container-id-4 div.sk-estimator:hover label.sk-toggleable__label-arrow:before {color: black;}#sk-container-id-4 div.sk-toggleable__content {max-height: 0;max-width: 0;overflow: hidden;text-align: left;background-color: #f0f8ff;}#sk-container-id-4 div.sk-toggleable__content pre {margin: 0.2em;color: black;border-radius: 0.25em;background-color: #f0f8ff;}#sk-container-id-4 input.sk-toggleable__control:checked~div.sk-toggleable__content {max-height: 200px;max-width: 100%;overflow: auto;}#sk-container-id-4 input.sk-toggleable__control:checked~label.sk-toggleable__label-arrow:before {content: \"▾\";}#sk-container-id-4 div.sk-estimator input.sk-toggleable__control:checked~label.sk-toggleable__label {background-color: #d4ebff;}#sk-container-id-4 div.sk-label input.sk-toggleable__control:checked~label.sk-toggleable__label {background-color: #d4ebff;}#sk-container-id-4 input.sk-hidden--visually {border: 0;clip: rect(1px 1px 1px 1px);clip: rect(1px, 1px, 1px, 1px);height: 1px;margin: -1px;overflow: hidden;padding: 0;position: absolute;width: 1px;}#sk-container-id-4 div.sk-estimator {font-family: monospace;background-color: #f0f8ff;border: 1px dotted black;border-radius: 0.25em;box-sizing: border-box;margin-bottom: 0.5em;}#sk-container-id-4 div.sk-estimator:hover {background-color: #d4ebff;}#sk-container-id-4 div.sk-parallel-item::after {content: \"\";width: 100%;border-bottom: 1px solid gray;flex-grow: 1;}#sk-container-id-4 div.sk-label:hover label.sk-toggleable__label {background-color: #d4ebff;}#sk-container-id-4 div.sk-serial::before {content: \"\";position: absolute;border-left: 1px solid gray;box-sizing: border-box;top: 0;bottom: 0;left: 50%;z-index: 0;}#sk-container-id-4 div.sk-serial {display: flex;flex-direction: column;align-items: center;background-color: white;padding-right: 0.2em;padding-left: 0.2em;position: relative;}#sk-container-id-4 div.sk-item {position: relative;z-index: 1;}#sk-container-id-4 div.sk-parallel {display: flex;align-items: stretch;justify-content: center;background-color: white;position: relative;}#sk-container-id-4 div.sk-item::before, #sk-container-id-4 div.sk-parallel-item::before {content: \"\";position: absolute;border-left: 1px solid gray;box-sizing: border-box;top: 0;bottom: 0;left: 50%;z-index: -1;}#sk-container-id-4 div.sk-parallel-item {display: flex;flex-direction: column;z-index: 1;position: relative;background-color: white;}#sk-container-id-4 div.sk-parallel-item:first-child::after {align-self: flex-end;width: 50%;}#sk-container-id-4 div.sk-parallel-item:last-child::after {align-self: flex-start;width: 50%;}#sk-container-id-4 div.sk-parallel-item:only-child::after {width: 0;}#sk-container-id-4 div.sk-dashed-wrapped {border: 1px dashed gray;margin: 0 0.4em 0.5em 0.4em;box-sizing: border-box;padding-bottom: 0.4em;background-color: white;}#sk-container-id-4 div.sk-label label {font-family: monospace;font-weight: bold;display: inline-block;line-height: 1.2em;}#sk-container-id-4 div.sk-label-container {text-align: center;}#sk-container-id-4 div.sk-container {/* jupyter's `normalize.less` sets `[hidden] { display: none; }` but bootstrap.min.css set `[hidden] { display: none !important; }` so we also need the `!important` here to be able to override the default hidden behavior on the sphinx rendered scikit-learn.org. See: https://github.com/scikit-learn/scikit-learn/issues/21755 */display: inline-block !important;position: relative;}#sk-container-id-4 div.sk-text-repr-fallback {display: none;}</style><div id=\"sk-container-id-4\" class=\"sk-top-container\"><div class=\"sk-text-repr-fallback\"><pre>LogisticRegression(random_state=1)</pre><b>In a Jupyter environment, please rerun this cell to show the HTML representation or trust the notebook. <br />On GitHub, the HTML representation is unable to render, please try loading this page with nbviewer.org.</b></div><div class=\"sk-container\" hidden><div class=\"sk-item\"><div class=\"sk-estimator sk-toggleable\"><input class=\"sk-toggleable__control sk-hidden--visually\" id=\"sk-estimator-id-4\" type=\"checkbox\" checked><label for=\"sk-estimator-id-4\" class=\"sk-toggleable__label sk-toggleable__label-arrow\">LogisticRegression</label><div class=\"sk-toggleable__content\"><pre>LogisticRegression(random_state=1)</pre></div></div></div></div></div>"
      ],
      "text/plain": [
       "LogisticRegression(random_state=1)"
      ]
     },
     "execution_count": 47,
     "metadata": {},
     "output_type": "execute_result"
    }
   ],
   "source": [
    "lr_risco_credito = LogisticRegression(random_state=1)\n",
    "lr_risco_credito.fit(X_risco_credito, y_risco_credito)"
   ]
  },
  {
   "cell_type": "code",
   "execution_count": 48,
   "id": "a5889c16",
   "metadata": {},
   "outputs": [
    {
     "data": {
      "text/plain": [
       "array([-0.80828993])"
      ]
     },
     "execution_count": 48,
     "metadata": {},
     "output_type": "execute_result"
    }
   ],
   "source": [
    "lr_risco_credito.intercept_ # mostra o valor que equivale ao parâmetro B0"
   ]
  },
  {
   "cell_type": "code",
   "execution_count": 49,
   "id": "1914360b",
   "metadata": {},
   "outputs": [
    {
     "data": {
      "text/plain": [
       "array([[-0.76704533,  0.23906678, -0.47976059,  1.12186218]])"
      ]
     },
     "execution_count": 49,
     "metadata": {},
     "output_type": "execute_result"
    }
   ],
   "source": [
    "lr_risco_credito.coef_ # mostra os pesos para cada atributo"
   ]
  },
  {
   "cell_type": "code",
   "execution_count": 50,
   "id": "92c45919",
   "metadata": {},
   "outputs": [
    {
     "data": {
      "text/plain": [
       "array(['baixo', 'alto'], dtype=object)"
      ]
     },
     "execution_count": 50,
     "metadata": {},
     "output_type": "execute_result"
    }
   ],
   "source": [
    "previsoes1 = lr_risco_credito.predict([[0,0,1,2], [2,0,0,0]])\n",
    "previsoes1"
   ]
  },
  {
   "cell_type": "code",
   "execution_count": null,
   "id": "6c239b16",
   "metadata": {},
   "outputs": [],
   "source": []
  },
  {
   "cell_type": "code",
   "execution_count": null,
   "id": "69a1f121",
   "metadata": {},
   "outputs": [],
   "source": []
  }
 ],
 "metadata": {
  "kernelspec": {
   "display_name": "Python 3 (ipykernel)",
   "language": "python",
   "name": "python3"
  },
  "language_info": {
   "codemirror_mode": {
    "name": "ipython",
    "version": 3
   },
   "file_extension": ".py",
   "mimetype": "text/x-python",
   "name": "python",
   "nbconvert_exporter": "python",
   "pygments_lexer": "ipython3",
   "version": "3.8.10"
  }
 },
 "nbformat": 4,
 "nbformat_minor": 5
}
